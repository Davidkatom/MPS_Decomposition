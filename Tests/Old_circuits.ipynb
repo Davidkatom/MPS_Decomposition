{
 "cells": [
  {
   "cell_type": "code",
   "execution_count": 1,
   "metadata": {
    "collapsed": true
   },
   "outputs": [],
   "source": [
    "from qiskit.ignis.verification import state_tomography_circuits, StateTomographyFitter\n",
    "from qiskit.tools import job_monitor\n",
    "\n",
    "from MPS_decomposition.hdf5_reader import Hdf5Reader\n",
    "from MPS_decomposition.basic_decomposer import BasicDecomposer\n",
    "from qiskit import *\n",
    "from qiskit import QuantumCircuit, transpile, Aer, IBMQ\n",
    "IBMQ.save_account(\n",
    "    '280beccbee94456a161a6cbc217e1366bc278bf60e22bd30281fa0ca5bec6e50897278ef818f3c53f6700e04b9ed32ea364195044413b7e02836a79d886b03d9',\n",
    "    overwrite=True)\n",
    "IBMQ.load_account()\n",
    "provider = IBMQ.get_provider(hub='ibm-q-research')"
   ]
  },
  {
   "cell_type": "code",
   "execution_count": 5,
   "outputs": [
    {
     "ename": "NameError",
     "evalue": "name 'Hdf5Reader' is not defined",
     "output_type": "error",
     "traceback": [
      "\u001B[1;31m---------------------------------------------------------------------------\u001B[0m",
      "\u001B[1;31mNameError\u001B[0m                                 Traceback (most recent call last)",
      "\u001B[1;32m~\\AppData\\Local\\Temp/ipykernel_32/776683663.py\u001B[0m in \u001B[0;36m<module>\u001B[1;34m\u001B[0m\n\u001B[1;32m----> 1\u001B[1;33m \u001B[0mreader1\u001B[0m \u001B[1;33m=\u001B[0m \u001B[0mHdf5Reader\u001B[0m\u001B[1;33m(\u001B[0m\u001B[1;34m\"new_2layers.h5.h5\"\u001B[0m\u001B[1;33m)\u001B[0m\u001B[1;33m.\u001B[0m\u001B[0mget_adapter\u001B[0m\u001B[1;33m(\u001B[0m\u001B[1;33m)\u001B[0m\u001B[1;33m\u001B[0m\u001B[1;33m\u001B[0m\u001B[0m\n\u001B[0m\u001B[0;32m      2\u001B[0m \u001B[0mcircuit1\u001B[0m \u001B[1;33m=\u001B[0m \u001B[0mBasicDecomposer\u001B[0m\u001B[1;33m(\u001B[0m\u001B[0mreader1\u001B[0m\u001B[1;33m)\u001B[0m\u001B[1;33m.\u001B[0m\u001B[0mdecompose\u001B[0m\u001B[1;33m(\u001B[0m\u001B[0mbarrier\u001B[0m\u001B[1;33m=\u001B[0m\u001B[1;32mTrue\u001B[0m\u001B[1;33m)\u001B[0m\u001B[1;33m\u001B[0m\u001B[1;33m\u001B[0m\u001B[0m\n\u001B[0;32m      3\u001B[0m \u001B[0mreader2\u001B[0m \u001B[1;33m=\u001B[0m \u001B[0mHdf5Reader\u001B[0m\u001B[1;33m(\u001B[0m\u001B[1;34m\"hardcase_3layers2.h5\"\u001B[0m\u001B[1;33m)\u001B[0m\u001B[1;33m.\u001B[0m\u001B[0mget_adapter\u001B[0m\u001B[1;33m(\u001B[0m\u001B[1;33m)\u001B[0m\u001B[1;33m\u001B[0m\u001B[1;33m\u001B[0m\u001B[0m\n\u001B[0;32m      4\u001B[0m \u001B[0mcircuit2\u001B[0m \u001B[1;33m=\u001B[0m \u001B[0mBasicDecomposer\u001B[0m\u001B[1;33m(\u001B[0m\u001B[0mreader2\u001B[0m\u001B[1;33m)\u001B[0m\u001B[1;33m.\u001B[0m\u001B[0mdecompose\u001B[0m\u001B[1;33m(\u001B[0m\u001B[0mbarrier\u001B[0m\u001B[1;33m=\u001B[0m\u001B[1;32mTrue\u001B[0m\u001B[1;33m)\u001B[0m\u001B[1;33m\u001B[0m\u001B[1;33m\u001B[0m\u001B[0m\n\u001B[0;32m      5\u001B[0m \u001B[1;33m\u001B[0m\u001B[0m\n",
      "\u001B[1;31mNameError\u001B[0m: name 'Hdf5Reader' is not defined"
     ]
    }
   ],
   "source": [
    "reader1 = Hdf5Reader(\"new_2layers.h5.h5\").get_adapter()\n",
    "circuit1 = BasicDecomposer(reader1).decompose(barrier=True)\n",
    "reader2 = Hdf5Reader(\"hardcase_3layers2.h5\").get_adapter()\n",
    "circuit2 = BasicDecomposer(reader2).decompose(barrier=True)\n",
    "\n",
    "#circuit2.draw(output='mpl')"
   ],
   "metadata": {
    "collapsed": false,
    "pycharm": {
     "name": "#%%\n"
    }
   }
  },
  {
   "cell_type": "code",
   "execution_count": 3,
   "outputs": [
    {
     "ename": "NameError",
     "evalue": "name 'circuit1' is not defined",
     "output_type": "error",
     "traceback": [
      "\u001B[1;31m---------------------------------------------------------------------------\u001B[0m",
      "\u001B[1;31mNameError\u001B[0m                                 Traceback (most recent call last)",
      "\u001B[1;32m~\\AppData\\Local\\Temp/ipykernel_32/473087436.py\u001B[0m in \u001B[0;36m<module>\u001B[1;34m\u001B[0m\n\u001B[1;32m----> 1\u001B[1;33m \u001B[0mreversed_circuit1\u001B[0m \u001B[1;33m=\u001B[0m \u001B[0mcircuit1\u001B[0m\u001B[1;33m.\u001B[0m\u001B[0minverse\u001B[0m\u001B[1;33m(\u001B[0m\u001B[1;33m)\u001B[0m\u001B[1;33m\u001B[0m\u001B[1;33m\u001B[0m\u001B[0m\n\u001B[0m\u001B[0;32m      2\u001B[0m \u001B[0mreversed_circuit2\u001B[0m \u001B[1;33m=\u001B[0m \u001B[0mcircuit2\u001B[0m\u001B[1;33m.\u001B[0m\u001B[0minverse\u001B[0m\u001B[1;33m(\u001B[0m\u001B[1;33m)\u001B[0m\u001B[1;33m\u001B[0m\u001B[1;33m\u001B[0m\u001B[0m\n",
      "\u001B[1;31mNameError\u001B[0m: name 'circuit1' is not defined"
     ]
    }
   ],
   "source": [
    "reversed_circuit1 = circuit1.inverse()\n",
    "reversed_circuit2 = circuit2.inverse()"
   ],
   "metadata": {
    "collapsed": false,
    "pycharm": {
     "name": "#%%\n"
    }
   }
  },
  {
   "cell_type": "code",
   "execution_count": 4,
   "outputs": [
    {
     "name": "stdout",
     "output_type": "stream",
     "text": [
      "Scalar product (circuit 1):  0.968574380423397\n",
      "Scalar product (circuit 2):  0.44336241476021204\n"
     ]
    }
   ],
   "source": [
    "import qiskit.quantum_info as qi\n",
    "import numpy as np\n",
    "\n",
    "state_vector1 = qi.Statevector.from_instruction(reversed_circuit1)\n",
    "state_vector2 = qi.Statevector.from_instruction(reversed_circuit2)\n",
    "\n",
    "vector_dot1 = np.vdot(state_vector1.data, reader1.get_psi())\n",
    "vector_dot2 = np.vdot(state_vector2.data, reader2.get_psi())\n",
    "print(\"Scalar product (circuit 1): \" , np.abs(vector_dot1))\n",
    "print(\"Scalar product (circuit 2): \" , np.abs(vector_dot2))\n"
   ],
   "metadata": {
    "collapsed": false,
    "pycharm": {
     "name": "#%%\n"
    }
   }
  }
 ],
 "metadata": {
  "kernelspec": {
   "display_name": "Python 3",
   "language": "python",
   "name": "python3"
  },
  "language_info": {
   "codemirror_mode": {
    "name": "ipython",
    "version": 2
   },
   "file_extension": ".py",
   "mimetype": "text/x-python",
   "name": "python",
   "nbconvert_exporter": "python",
   "pygments_lexer": "ipython2",
   "version": "2.7.6"
  }
 },
 "nbformat": 4,
 "nbformat_minor": 0
}