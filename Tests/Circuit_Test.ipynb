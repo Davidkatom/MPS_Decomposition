{
 "cells": [
  {
   "cell_type": "code",
   "execution_count": 1,
   "metadata": {
    "collapsed": true
   },
   "outputs": [],
   "source": [
    "from qiskit.ignis.verification import state_tomography_circuits, StateTomographyFitter\n",
    "from qiskit.tools import job_monitor\n",
    "\n",
    "from MPS_decomposition.hdf5_reader import Hdf5Reader\n",
    "from MPS_decomposition.basic_decomposer import BasicDecomposer\n",
    "from qiskit import *\n",
    "from qiskit import QuantumCircuit, transpile, Aer, IBMQ\n",
    "IBMQ.save_account(\n",
    "    '280beccbee94456a161a6cbc217e1366bc278bf60e22bd30281fa0ca5bec6e50897278ef818f3c53f6700e04b9ed32ea364195044413b7e02836a79d886b03d9',\n",
    "    overwrite=True)\n",
    "IBMQ.load_account()\n",
    "provider = IBMQ.get_provider(hub='ibm-q-research')\n",
    "from qiskit.circuit.random import random_circuit\n",
    "import qiskit.quantum_info as qi\n"
   ]
  },
  {
   "cell_type": "code",
   "execution_count": 6,
   "outputs": [],
   "source": [
    "cir1 = random_circuit(2,3)\n",
    "cir2 = random_circuit(2,3)\n",
    "cir3 = random_circuit(2,3)\n",
    "cir = cir1 + cir2 + cir3\n",
    "unitary_math = qi.Operator(cir)"
   ],
   "metadata": {
    "collapsed": false,
    "pycharm": {
     "name": "#%%\n"
    }
   }
  },
  {
   "cell_type": "code",
   "execution_count": 7,
   "outputs": [],
   "source": [
    "backend = Aer.get_backend('unitary_simulator')\n",
    "job = execute(cir, backend)\n",
    "result = job.result()\n",
    "unitary_sim = result.get_unitary(cir)"
   ],
   "metadata": {
    "collapsed": false,
    "pycharm": {
     "name": "#%%\n"
    }
   }
  },
  {
   "cell_type": "code",
   "execution_count": 13,
   "outputs": [
    {
     "name": "stdout",
     "output_type": "stream",
     "text": [
      "[[matrix([[-7.44405736e-01+0.24208901j,  5.94475854e-01-0.16857366j,\n",
      "          4.90511695e-02-0.05318855j, -1.35280129e-02+0.00404262j],\n",
      "        [-4.78976364e-01-0.39038476j, -5.87489933e-01-0.51730317j,\n",
      "         -5.05284716e-04+0.01411009j, -3.91205528e-02+0.06086561j],\n",
      "        [ 1.78950841e-02+0.05502605j, -1.24608705e-02-0.04394332j,\n",
      "          7.19547595e-01+0.66357605j, -5.46895857e-02-0.18301022j],\n",
      "        [-2.88570227e-02+0.03540566j, -3.82387600e-02+0.04342693j,\n",
      "         -1.90884693e-01-0.00683561j, -8.23404590e-01-0.52923227j]])]]\n"
     ]
    },
    {
     "data": {
      "text/plain": "<Figure size 688.452x144.48 with 1 Axes>",
      "image/png": "[encoded data removed]"
     },
     "execution_count": 13,
     "metadata": {},
     "output_type": "execute_result"
    }
   ],
   "source": [
    "import numpy as np\n",
    "from MPS_decomposition.hdf5_reader import MPSAdapter\n",
    "adapter = MPSAdapter([[np.matrix(unitary_math.data)]], qi.Statevector.from_instruction(cir), 2, 1)\n",
    "decomposed = BasicDecomposer(adapter).decompose(barrier=True)\n",
    "decomposed.draw(output='mpl')"
   ],
   "metadata": {
    "collapsed": false,
    "pycharm": {
     "name": "#%%\n"
    }
   }
  },
  {
   "cell_type": "code",
   "execution_count": 15,
   "outputs": [
    {
     "name": "stdout",
     "output_type": "stream",
     "text": [
      "Scalar product (circuit 1):  0.9999999999999996\n"
     ]
    }
   ],
   "source": [
    "state_vector_org = qi.Statevector.from_instruction(cir)\n",
    "state_vector_dec = qi.Statevector.from_instruction(decomposed)\n",
    "vector_dot = np.vdot(state_vector_org.data, state_vector_dec)\n",
    "print(\"Scalar product (circuit 1): \" , np.abs(vector_dot))"
   ],
   "metadata": {
    "collapsed": false,
    "pycharm": {
     "name": "#%%\n"
    }
   }
  }
 ],
 "metadata": {
  "kernelspec": {
   "display_name": "Python 3",
   "language": "python",
   "name": "python3"
  },
  "language_info": {
   "codemirror_mode": {
    "name": "ipython",
    "version": 2
   },
   "file_extension": ".py",
   "mimetype": "text/x-python",
   "name": "python",
   "nbconvert_exporter": "python",
   "pygments_lexer": "ipython2",
   "version": "2.7.6"
  }
 },
 "nbformat": 4,
 "nbformat_minor": 0
}